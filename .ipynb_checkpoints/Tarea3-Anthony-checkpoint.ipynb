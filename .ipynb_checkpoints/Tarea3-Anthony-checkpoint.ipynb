{
 "cells": [
  {
   "cell_type": "markdown",
   "metadata": {
    "colab_type": "text",
    "id": "sooJZRVZOngO"
   },
   "source": [
    "## **PREDICCION DE ENFERMEDAD CARDIACA**\n"
   ]
  },
  {
   "cell_type": "markdown",
   "metadata": {
    "colab_type": "text",
    "id": "U8xMYmsXO3Oe"
   },
   "source": [
    "Uso del  Heart Disease Data Set para ejercicio de prediccion\n"
   ]
  },
  {
   "cell_type": "markdown",
   "metadata": {
    "colab_type": "text",
    "id": "AqVm2pqfPMcK"
   },
   "source": [
    "#### IMPORTACION DE LIBRERIAS Y DATASET"
   ]
  },
  {
   "cell_type": "markdown",
   "metadata": {},
   "source": [
    "IMPORTACION DE DEPENDENCIAS"
   ]
  },
  {
   "cell_type": "code",
   "execution_count": 1,
   "metadata": {
    "colab": {
     "base_uri": "https://localhost:8080/",
     "height": 359
    },
    "colab_type": "code",
    "id": "7VTYB3HeBGrO",
    "outputId": "0abd63ee-dc7c-4feb-c20d-864fd0cf5869"
   },
   "outputs": [],
   "source": [
    "import pandas as pd \n",
    "from pandas import read_csv"
   ]
  },
  {
   "cell_type": "markdown",
   "metadata": {},
   "source": [
    "###### IMPORTACION DEL DATASET Y AGREGAR NOMBRE DE COLUMNAS"
   ]
  },
  {
   "cell_type": "code",
   "execution_count": 2,
   "metadata": {
    "colab": {
     "base_uri": "https://localhost:8080/",
     "height": 359
    },
    "colab_type": "code",
    "id": "7VTYB3HeBGrO",
    "outputId": "0abd63ee-dc7c-4feb-c20d-864fd0cf5869"
   },
   "outputs": [],
   "source": [
    "url = \"https://archive.ics.uci.edu/ml/machine-learning-databases/heart-disease/processed.cleveland.data\"\n",
    "names =[\"EDAD\", \"SEXO\", \"TD\", \"PSD\", \"COL\",\"AZA\", \"ELE\", \"FCO\",\"AIE\", \"DST\",\"PEN\", \"VAS\", \"TAL\", \"RES\"]\n",
    "dataset = pd.read_csv(url, names=names)"
   ]
  },
  {
   "cell_type": "markdown",
   "metadata": {},
   "source": [
    "##### INSPECCION PRIMEROS 5 DATOS"
   ]
  },
  {
   "cell_type": "code",
   "execution_count": 3,
   "metadata": {
    "colab": {
     "base_uri": "https://localhost:8080/",
     "height": 359
    },
    "colab_type": "code",
    "id": "7VTYB3HeBGrO",
    "outputId": "0abd63ee-dc7c-4feb-c20d-864fd0cf5869"
   },
   "outputs": [
    {
     "data": {
      "text/html": [
       "<div>\n",
       "<style scoped>\n",
       "    .dataframe tbody tr th:only-of-type {\n",
       "        vertical-align: middle;\n",
       "    }\n",
       "\n",
       "    .dataframe tbody tr th {\n",
       "        vertical-align: top;\n",
       "    }\n",
       "\n",
       "    .dataframe thead th {\n",
       "        text-align: right;\n",
       "    }\n",
       "</style>\n",
       "<table border=\"1\" class=\"dataframe\">\n",
       "  <thead>\n",
       "    <tr style=\"text-align: right;\">\n",
       "      <th></th>\n",
       "      <th>EDAD</th>\n",
       "      <th>SEXO</th>\n",
       "      <th>TD</th>\n",
       "      <th>PSD</th>\n",
       "      <th>COL</th>\n",
       "      <th>AZA</th>\n",
       "      <th>ELE</th>\n",
       "      <th>FCO</th>\n",
       "      <th>AIE</th>\n",
       "      <th>DST</th>\n",
       "      <th>PEN</th>\n",
       "      <th>VAS</th>\n",
       "      <th>TAL</th>\n",
       "      <th>RES</th>\n",
       "    </tr>\n",
       "  </thead>\n",
       "  <tbody>\n",
       "    <tr>\n",
       "      <th>0</th>\n",
       "      <td>63.0</td>\n",
       "      <td>1.0</td>\n",
       "      <td>1.0</td>\n",
       "      <td>145.0</td>\n",
       "      <td>233.0</td>\n",
       "      <td>1.0</td>\n",
       "      <td>2.0</td>\n",
       "      <td>150.0</td>\n",
       "      <td>0.0</td>\n",
       "      <td>2.3</td>\n",
       "      <td>3.0</td>\n",
       "      <td>0.0</td>\n",
       "      <td>6.0</td>\n",
       "      <td>0</td>\n",
       "    </tr>\n",
       "    <tr>\n",
       "      <th>1</th>\n",
       "      <td>67.0</td>\n",
       "      <td>1.0</td>\n",
       "      <td>4.0</td>\n",
       "      <td>160.0</td>\n",
       "      <td>286.0</td>\n",
       "      <td>0.0</td>\n",
       "      <td>2.0</td>\n",
       "      <td>108.0</td>\n",
       "      <td>1.0</td>\n",
       "      <td>1.5</td>\n",
       "      <td>2.0</td>\n",
       "      <td>3.0</td>\n",
       "      <td>3.0</td>\n",
       "      <td>2</td>\n",
       "    </tr>\n",
       "    <tr>\n",
       "      <th>2</th>\n",
       "      <td>67.0</td>\n",
       "      <td>1.0</td>\n",
       "      <td>4.0</td>\n",
       "      <td>120.0</td>\n",
       "      <td>229.0</td>\n",
       "      <td>0.0</td>\n",
       "      <td>2.0</td>\n",
       "      <td>129.0</td>\n",
       "      <td>1.0</td>\n",
       "      <td>2.6</td>\n",
       "      <td>2.0</td>\n",
       "      <td>2.0</td>\n",
       "      <td>7.0</td>\n",
       "      <td>1</td>\n",
       "    </tr>\n",
       "    <tr>\n",
       "      <th>3</th>\n",
       "      <td>37.0</td>\n",
       "      <td>1.0</td>\n",
       "      <td>3.0</td>\n",
       "      <td>130.0</td>\n",
       "      <td>250.0</td>\n",
       "      <td>0.0</td>\n",
       "      <td>0.0</td>\n",
       "      <td>187.0</td>\n",
       "      <td>0.0</td>\n",
       "      <td>3.5</td>\n",
       "      <td>3.0</td>\n",
       "      <td>0.0</td>\n",
       "      <td>3.0</td>\n",
       "      <td>0</td>\n",
       "    </tr>\n",
       "    <tr>\n",
       "      <th>4</th>\n",
       "      <td>41.0</td>\n",
       "      <td>0.0</td>\n",
       "      <td>2.0</td>\n",
       "      <td>130.0</td>\n",
       "      <td>204.0</td>\n",
       "      <td>0.0</td>\n",
       "      <td>2.0</td>\n",
       "      <td>172.0</td>\n",
       "      <td>0.0</td>\n",
       "      <td>1.4</td>\n",
       "      <td>1.0</td>\n",
       "      <td>0.0</td>\n",
       "      <td>3.0</td>\n",
       "      <td>0</td>\n",
       "    </tr>\n",
       "  </tbody>\n",
       "</table>\n",
       "</div>"
      ],
      "text/plain": [
       "   EDAD  SEXO   TD    PSD    COL  AZA  ELE    FCO  AIE  DST  PEN  VAS  TAL  \\\n",
       "0  63.0   1.0  1.0  145.0  233.0  1.0  2.0  150.0  0.0  2.3  3.0  0.0  6.0   \n",
       "1  67.0   1.0  4.0  160.0  286.0  0.0  2.0  108.0  1.0  1.5  2.0  3.0  3.0   \n",
       "2  67.0   1.0  4.0  120.0  229.0  0.0  2.0  129.0  1.0  2.6  2.0  2.0  7.0   \n",
       "3  37.0   1.0  3.0  130.0  250.0  0.0  0.0  187.0  0.0  3.5  3.0  0.0  3.0   \n",
       "4  41.0   0.0  2.0  130.0  204.0  0.0  2.0  172.0  0.0  1.4  1.0  0.0  3.0   \n",
       "\n",
       "   RES  \n",
       "0    0  \n",
       "1    2  \n",
       "2    1  \n",
       "3    0  \n",
       "4    0  "
      ]
     },
     "execution_count": 3,
     "metadata": {},
     "output_type": "execute_result"
    }
   ],
   "source": [
    "dataset.head(5)"
   ]
  },
  {
   "cell_type": "markdown",
   "metadata": {},
   "source": [
    "#### DIMENSION DEL DATASET"
   ]
  },
  {
   "cell_type": "code",
   "execution_count": 4,
   "metadata": {},
   "outputs": [
    {
     "data": {
      "text/plain": [
       "(303, 14)"
      ]
     },
     "execution_count": 4,
     "metadata": {},
     "output_type": "execute_result"
    }
   ],
   "source": [
    "dataset.shape"
   ]
  },
  {
   "cell_type": "markdown",
   "metadata": {},
   "source": [
    "##### Inspeccion de tipo de datos de cada columna."
   ]
  },
  {
   "cell_type": "code",
   "execution_count": 5,
   "metadata": {
    "colab": {
     "base_uri": "https://localhost:8080/",
     "height": 272
    },
    "colab_type": "code",
    "id": "cJPY4vODe_6I",
    "outputId": "61bedf21-8920-4bfd-c339-8691b2472318"
   },
   "outputs": [
    {
     "data": {
      "text/plain": [
       "EDAD    float64\n",
       "SEXO    float64\n",
       "TD      float64\n",
       "PSD     float64\n",
       "COL     float64\n",
       "AZA     float64\n",
       "ELE     float64\n",
       "FCO     float64\n",
       "AIE     float64\n",
       "DST     float64\n",
       "PEN     float64\n",
       "VAS      object\n",
       "TAL      object\n",
       "RES       int64\n",
       "dtype: object"
      ]
     },
     "execution_count": 5,
     "metadata": {},
     "output_type": "execute_result"
    }
   ],
   "source": [
    "dataset.dtypes"
   ]
  },
  {
   "cell_type": "markdown",
   "metadata": {},
   "source": [
    "##### Se sospecha que las columnas VAS, y TAL podrian contener datos faltantes"
   ]
  },
  {
   "cell_type": "code",
   "execution_count": 6,
   "metadata": {
    "colab": {},
    "colab_type": "code",
    "id": "CoUytiLPgILP"
   },
   "outputs": [
    {
     "data": {
      "text/plain": [
       "Index(['VAS', 'TAL'], dtype='object')"
      ]
     },
     "execution_count": 6,
     "metadata": {},
     "output_type": "execute_result"
    }
   ],
   "source": [
    "cols = dataset.columns[dataset.dtypes.eq(object)]\n",
    "cols"
   ]
  },
  {
   "cell_type": "markdown",
   "metadata": {},
   "source": [
    "##### Se convierte los datos de las columnas VAS, y TAL en valores numericos; cualquier dato que no se pueda convertir se transforma en un NaN"
   ]
  },
  {
   "cell_type": "code",
   "execution_count": 7,
   "metadata": {
    "colab": {},
    "colab_type": "code",
    "id": "CoUytiLPgILP"
   },
   "outputs": [
    {
     "data": {
      "text/plain": [
       "EDAD    float64\n",
       "SEXO    float64\n",
       "TD      float64\n",
       "PSD     float64\n",
       "COL     float64\n",
       "AZA     float64\n",
       "ELE     float64\n",
       "FCO     float64\n",
       "AIE     float64\n",
       "DST     float64\n",
       "PEN     float64\n",
       "VAS     float64\n",
       "TAL     float64\n",
       "RES       int64\n",
       "dtype: object"
      ]
     },
     "execution_count": 7,
     "metadata": {},
     "output_type": "execute_result"
    }
   ],
   "source": [
    "dataset[cols] = dataset[cols].apply(pd.to_numeric, errors='coerce')\n",
    "dataset.dtypes"
   ]
  },
  {
   "cell_type": "markdown",
   "metadata": {},
   "source": [
    "##### Verificar existencia si hubo datos faltantes."
   ]
  },
  {
   "cell_type": "code",
   "execution_count": 8,
   "metadata": {},
   "outputs": [
    {
     "data": {
      "text/plain": [
       "True"
      ]
     },
     "execution_count": 8,
     "metadata": {},
     "output_type": "execute_result"
    }
   ],
   "source": [
    "dataset.isnull().values.any()"
   ]
  },
  {
   "cell_type": "markdown",
   "metadata": {},
   "source": [
    "##### Cantidad de datos faltantes"
   ]
  },
  {
   "cell_type": "code",
   "execution_count": 9,
   "metadata": {},
   "outputs": [
    {
     "data": {
      "text/plain": [
       "6"
      ]
     },
     "execution_count": 9,
     "metadata": {},
     "output_type": "execute_result"
    }
   ],
   "source": [
    "dataset.isnull().values.sum()"
   ]
  },
  {
   "cell_type": "markdown",
   "metadata": {},
   "source": [
    "###### Como el resultado es 6, se opta por eliminar esos datos."
   ]
  },
  {
   "cell_type": "code",
   "execution_count": 10,
   "metadata": {},
   "outputs": [],
   "source": [
    "dataset = dataset.dropna()"
   ]
  },
  {
   "cell_type": "markdown",
   "metadata": {},
   "source": [
    "###### Verificación de la dimension"
   ]
  },
  {
   "cell_type": "code",
   "execution_count": 11,
   "metadata": {},
   "outputs": [
    {
     "data": {
      "text/plain": [
       "(297, 14)"
      ]
     },
     "execution_count": 11,
     "metadata": {},
     "output_type": "execute_result"
    }
   ],
   "source": [
    "dataset.shape"
   ]
  },
  {
   "cell_type": "markdown",
   "metadata": {},
   "source": [
    "##### Las variable RES muestra la condicion cardiaca de la muestra. Un valor 0 indica que la persona tiene enfermedad cardiaca, valores 1,2,3 y 4 indican que no posee esa condicion. Los datos se consolidan para que muestren 0 si es positivo para enfermedad y si los datos son 1,2,3 y 4 mostrara un 1, indicando negativo para enfermedad cardiaca."
   ]
  },
  {
   "cell_type": "code",
   "execution_count": 12,
   "metadata": {},
   "outputs": [],
   "source": [
    "dataset.loc[dataset['RES'] == 0, 'RES'] = 0\n",
    "dataset.loc[(dataset['RES'] >0), 'RES'] = 1"
   ]
  },
  {
   "cell_type": "markdown",
   "metadata": {},
   "source": [
    "###### Inspeccion despues del proceso de agrupacion."
   ]
  },
  {
   "cell_type": "code",
   "execution_count": 13,
   "metadata": {},
   "outputs": [
    {
     "data": {
      "text/html": [
       "<div>\n",
       "<style scoped>\n",
       "    .dataframe tbody tr th:only-of-type {\n",
       "        vertical-align: middle;\n",
       "    }\n",
       "\n",
       "    .dataframe tbody tr th {\n",
       "        vertical-align: top;\n",
       "    }\n",
       "\n",
       "    .dataframe thead th {\n",
       "        text-align: right;\n",
       "    }\n",
       "</style>\n",
       "<table border=\"1\" class=\"dataframe\">\n",
       "  <thead>\n",
       "    <tr style=\"text-align: right;\">\n",
       "      <th></th>\n",
       "      <th>EDAD</th>\n",
       "      <th>SEXO</th>\n",
       "      <th>TD</th>\n",
       "      <th>PSD</th>\n",
       "      <th>COL</th>\n",
       "      <th>AZA</th>\n",
       "      <th>ELE</th>\n",
       "      <th>FCO</th>\n",
       "      <th>AIE</th>\n",
       "      <th>DST</th>\n",
       "      <th>PEN</th>\n",
       "      <th>VAS</th>\n",
       "      <th>TAL</th>\n",
       "      <th>RES</th>\n",
       "    </tr>\n",
       "  </thead>\n",
       "  <tbody>\n",
       "    <tr>\n",
       "      <th>0</th>\n",
       "      <td>63.0</td>\n",
       "      <td>1.0</td>\n",
       "      <td>1.0</td>\n",
       "      <td>145.0</td>\n",
       "      <td>233.0</td>\n",
       "      <td>1.0</td>\n",
       "      <td>2.0</td>\n",
       "      <td>150.0</td>\n",
       "      <td>0.0</td>\n",
       "      <td>2.3</td>\n",
       "      <td>3.0</td>\n",
       "      <td>0.0</td>\n",
       "      <td>6.0</td>\n",
       "      <td>0</td>\n",
       "    </tr>\n",
       "    <tr>\n",
       "      <th>1</th>\n",
       "      <td>67.0</td>\n",
       "      <td>1.0</td>\n",
       "      <td>4.0</td>\n",
       "      <td>160.0</td>\n",
       "      <td>286.0</td>\n",
       "      <td>0.0</td>\n",
       "      <td>2.0</td>\n",
       "      <td>108.0</td>\n",
       "      <td>1.0</td>\n",
       "      <td>1.5</td>\n",
       "      <td>2.0</td>\n",
       "      <td>3.0</td>\n",
       "      <td>3.0</td>\n",
       "      <td>1</td>\n",
       "    </tr>\n",
       "    <tr>\n",
       "      <th>2</th>\n",
       "      <td>67.0</td>\n",
       "      <td>1.0</td>\n",
       "      <td>4.0</td>\n",
       "      <td>120.0</td>\n",
       "      <td>229.0</td>\n",
       "      <td>0.0</td>\n",
       "      <td>2.0</td>\n",
       "      <td>129.0</td>\n",
       "      <td>1.0</td>\n",
       "      <td>2.6</td>\n",
       "      <td>2.0</td>\n",
       "      <td>2.0</td>\n",
       "      <td>7.0</td>\n",
       "      <td>1</td>\n",
       "    </tr>\n",
       "    <tr>\n",
       "      <th>3</th>\n",
       "      <td>37.0</td>\n",
       "      <td>1.0</td>\n",
       "      <td>3.0</td>\n",
       "      <td>130.0</td>\n",
       "      <td>250.0</td>\n",
       "      <td>0.0</td>\n",
       "      <td>0.0</td>\n",
       "      <td>187.0</td>\n",
       "      <td>0.0</td>\n",
       "      <td>3.5</td>\n",
       "      <td>3.0</td>\n",
       "      <td>0.0</td>\n",
       "      <td>3.0</td>\n",
       "      <td>0</td>\n",
       "    </tr>\n",
       "    <tr>\n",
       "      <th>4</th>\n",
       "      <td>41.0</td>\n",
       "      <td>0.0</td>\n",
       "      <td>2.0</td>\n",
       "      <td>130.0</td>\n",
       "      <td>204.0</td>\n",
       "      <td>0.0</td>\n",
       "      <td>2.0</td>\n",
       "      <td>172.0</td>\n",
       "      <td>0.0</td>\n",
       "      <td>1.4</td>\n",
       "      <td>1.0</td>\n",
       "      <td>0.0</td>\n",
       "      <td>3.0</td>\n",
       "      <td>0</td>\n",
       "    </tr>\n",
       "    <tr>\n",
       "      <th>5</th>\n",
       "      <td>56.0</td>\n",
       "      <td>1.0</td>\n",
       "      <td>2.0</td>\n",
       "      <td>120.0</td>\n",
       "      <td>236.0</td>\n",
       "      <td>0.0</td>\n",
       "      <td>0.0</td>\n",
       "      <td>178.0</td>\n",
       "      <td>0.0</td>\n",
       "      <td>0.8</td>\n",
       "      <td>1.0</td>\n",
       "      <td>0.0</td>\n",
       "      <td>3.0</td>\n",
       "      <td>0</td>\n",
       "    </tr>\n",
       "    <tr>\n",
       "      <th>6</th>\n",
       "      <td>62.0</td>\n",
       "      <td>0.0</td>\n",
       "      <td>4.0</td>\n",
       "      <td>140.0</td>\n",
       "      <td>268.0</td>\n",
       "      <td>0.0</td>\n",
       "      <td>2.0</td>\n",
       "      <td>160.0</td>\n",
       "      <td>0.0</td>\n",
       "      <td>3.6</td>\n",
       "      <td>3.0</td>\n",
       "      <td>2.0</td>\n",
       "      <td>3.0</td>\n",
       "      <td>1</td>\n",
       "    </tr>\n",
       "    <tr>\n",
       "      <th>7</th>\n",
       "      <td>57.0</td>\n",
       "      <td>0.0</td>\n",
       "      <td>4.0</td>\n",
       "      <td>120.0</td>\n",
       "      <td>354.0</td>\n",
       "      <td>0.0</td>\n",
       "      <td>0.0</td>\n",
       "      <td>163.0</td>\n",
       "      <td>1.0</td>\n",
       "      <td>0.6</td>\n",
       "      <td>1.0</td>\n",
       "      <td>0.0</td>\n",
       "      <td>3.0</td>\n",
       "      <td>0</td>\n",
       "    </tr>\n",
       "    <tr>\n",
       "      <th>8</th>\n",
       "      <td>63.0</td>\n",
       "      <td>1.0</td>\n",
       "      <td>4.0</td>\n",
       "      <td>130.0</td>\n",
       "      <td>254.0</td>\n",
       "      <td>0.0</td>\n",
       "      <td>2.0</td>\n",
       "      <td>147.0</td>\n",
       "      <td>0.0</td>\n",
       "      <td>1.4</td>\n",
       "      <td>2.0</td>\n",
       "      <td>1.0</td>\n",
       "      <td>7.0</td>\n",
       "      <td>1</td>\n",
       "    </tr>\n",
       "    <tr>\n",
       "      <th>9</th>\n",
       "      <td>53.0</td>\n",
       "      <td>1.0</td>\n",
       "      <td>4.0</td>\n",
       "      <td>140.0</td>\n",
       "      <td>203.0</td>\n",
       "      <td>1.0</td>\n",
       "      <td>2.0</td>\n",
       "      <td>155.0</td>\n",
       "      <td>1.0</td>\n",
       "      <td>3.1</td>\n",
       "      <td>3.0</td>\n",
       "      <td>0.0</td>\n",
       "      <td>7.0</td>\n",
       "      <td>1</td>\n",
       "    </tr>\n",
       "  </tbody>\n",
       "</table>\n",
       "</div>"
      ],
      "text/plain": [
       "   EDAD  SEXO   TD    PSD    COL  AZA  ELE    FCO  AIE  DST  PEN  VAS  TAL  \\\n",
       "0  63.0   1.0  1.0  145.0  233.0  1.0  2.0  150.0  0.0  2.3  3.0  0.0  6.0   \n",
       "1  67.0   1.0  4.0  160.0  286.0  0.0  2.0  108.0  1.0  1.5  2.0  3.0  3.0   \n",
       "2  67.0   1.0  4.0  120.0  229.0  0.0  2.0  129.0  1.0  2.6  2.0  2.0  7.0   \n",
       "3  37.0   1.0  3.0  130.0  250.0  0.0  0.0  187.0  0.0  3.5  3.0  0.0  3.0   \n",
       "4  41.0   0.0  2.0  130.0  204.0  0.0  2.0  172.0  0.0  1.4  1.0  0.0  3.0   \n",
       "5  56.0   1.0  2.0  120.0  236.0  0.0  0.0  178.0  0.0  0.8  1.0  0.0  3.0   \n",
       "6  62.0   0.0  4.0  140.0  268.0  0.0  2.0  160.0  0.0  3.6  3.0  2.0  3.0   \n",
       "7  57.0   0.0  4.0  120.0  354.0  0.0  0.0  163.0  1.0  0.6  1.0  0.0  3.0   \n",
       "8  63.0   1.0  4.0  130.0  254.0  0.0  2.0  147.0  0.0  1.4  2.0  1.0  7.0   \n",
       "9  53.0   1.0  4.0  140.0  203.0  1.0  2.0  155.0  1.0  3.1  3.0  0.0  7.0   \n",
       "\n",
       "   RES  \n",
       "0    0  \n",
       "1    1  \n",
       "2    1  \n",
       "3    0  \n",
       "4    0  \n",
       "5    0  \n",
       "6    1  \n",
       "7    0  \n",
       "8    1  \n",
       "9    1  "
      ]
     },
     "execution_count": 13,
     "metadata": {},
     "output_type": "execute_result"
    }
   ],
   "source": [
    "dataset.head(10)"
   ]
  },
  {
   "cell_type": "markdown",
   "metadata": {
    "colab_type": "text",
    "id": "IG3UCVGiEtpy"
   },
   "source": [
    "## PREPARACION DE LOS DATOS\n",
    "\n",
    " DESCRIPCION DE LAS VARIABLES\n",
    "\n",
    "1.   EDAD : Edad del individuo\n",
    "2.   SEX : Sexo del individuo\n",
    "3.   TD: Tipo de dolor de pecho 1-tipico, 2-No tipico, 3-No dolor, 4 -Asintomatico\n",
    "4.   PSD : Presion arterial en reposo\n",
    "5.   COL : Nivel de colesterol\n",
    "6.   AZA: Nivel de azucar en la sangre en ayuno 1-Si es superior a 120mg/dl, 0-Si es inferior\n",
    "7.   ELE: Eletrocardiograma 0-Normal, 1 y 2 Anormal\n",
    "8.   FCO: Frecuencia cardiaca objetivo\n",
    "9.   AIE:  Angina inducida por el ejercicio 1-Si, 0-No\n",
    "10. DST: Depresion en el segmento ST Electrocardiograma \n",
    "11.  PEN: Pendiente de segmento ST en ejercicio 1-Sube, 2-Plano, 3-Baja.\n",
    "12.  VAS: Numero de vasos (0-3) coloreados por fluoroscopia\n",
    "13. TAL: Talasemia 3-Normal, 6-Defecto permanente, 7-Defecto reversible\n",
    "14.  RES: Enfermedad cardiaca.  Mayor a 0 no hay enfermedad cardiaca\n",
    "\n"
   ]
  },
  {
   "cell_type": "markdown",
   "metadata": {
    "colab_type": "text",
    "id": "0Nzgtq_NK9Xh"
   },
   "source": [
    "#### Los datos de las colummas TAL y REA son numéricos, deben convertirse a float"
   ]
  },
  {
   "cell_type": "code",
   "execution_count": 14,
   "metadata": {
    "colab": {
     "base_uri": "https://localhost:8080/",
     "height": 272
    },
    "colab_type": "code",
    "id": "ov_keRmFkf_m",
    "outputId": "cb948ab0-c3ec-4983-fed3-a32445f84cba"
   },
   "outputs": [
    {
     "data": {
      "text/plain": [
       "Index([], dtype='object')"
      ]
     },
     "execution_count": 14,
     "metadata": {},
     "output_type": "execute_result"
    }
   ],
   "source": [
    "cols = dataset.columns[dataset.dtypes.eq(object)]\n",
    "cols"
   ]
  },
  {
   "cell_type": "markdown",
   "metadata": {},
   "source": [
    "##### Comprobación del tipo de datos"
   ]
  },
  {
   "cell_type": "code",
   "execution_count": 15,
   "metadata": {
    "colab": {
     "base_uri": "https://localhost:8080/",
     "height": 272
    },
    "colab_type": "code",
    "id": "ov_keRmFkf_m",
    "outputId": "cb948ab0-c3ec-4983-fed3-a32445f84cba"
   },
   "outputs": [
    {
     "data": {
      "text/plain": [
       "EDAD    float64\n",
       "SEXO    float64\n",
       "TD      float64\n",
       "PSD     float64\n",
       "COL     float64\n",
       "AZA     float64\n",
       "ELE     float64\n",
       "FCO     float64\n",
       "AIE     float64\n",
       "DST     float64\n",
       "PEN     float64\n",
       "VAS     float64\n",
       "TAL     float64\n",
       "RES       int64\n",
       "dtype: object"
      ]
     },
     "execution_count": 15,
     "metadata": {},
     "output_type": "execute_result"
    }
   ],
   "source": [
    "dataset[cols] = dataset[cols].apply(pd.to_numeric, errors='coerce')\n",
    "dataset.dtypes"
   ]
  },
  {
   "cell_type": "markdown",
   "metadata": {},
   "source": [
    "##### Comprobar NaN"
   ]
  },
  {
   "cell_type": "code",
   "execution_count": 16,
   "metadata": {
    "colab": {
     "base_uri": "https://localhost:8080/",
     "height": 34
    },
    "colab_type": "code",
    "id": "VVmhEFXqktfh",
    "outputId": "2f8aac1b-8ea3-4520-a115-2894c276c26f"
   },
   "outputs": [
    {
     "data": {
      "text/plain": [
       "False"
      ]
     },
     "execution_count": 16,
     "metadata": {},
     "output_type": "execute_result"
    }
   ],
   "source": [
    "dataset.isnull().values.any()\n"
   ]
  },
  {
   "cell_type": "markdown",
   "metadata": {
    "colab_type": "text",
    "id": "DzIoixdszxVb"
   },
   "source": [
    "### PROCESADO DE LA VARIABLE QUE DEFINE LOS RESULTADOS\n",
    "\n",
    "Las variable RES muestra la condicion cardiaca de la muestra.  Un valor 0 indica que la persona tiene enfermedad cardiaca,  valores 1,2,3 y 4 indican que no posee esa condicion.    Los datos se consolidan para que muestren 0 si es positivo para enfermedad y si los datos son 1,2,3 y 4 mostrara un 1, indicando negativo para enfermedad cardiaca."
   ]
  },
  {
   "cell_type": "code",
   "execution_count": 17,
   "metadata": {
    "colab": {
     "base_uri": "https://localhost:8080/",
     "height": 204
    },
    "colab_type": "code",
    "id": "gMErsX6Zr8XD",
    "outputId": "c4e7feea-ac6c-490b-d116-84f21449ac1c"
   },
   "outputs": [],
   "source": [
    "#AGRUPANDO DATOS DE SALIDA\n",
    "\n",
    "dataset.loc[dataset['RES'] == 0, 'RES'] = 0\n",
    "dataset.loc[(dataset['RES'] >0), 'RES'] = 1"
   ]
  },
  {
   "cell_type": "markdown",
   "metadata": {},
   "source": [
    "#### Verificando si los datos han sido categorizados"
   ]
  },
  {
   "cell_type": "code",
   "execution_count": 18,
   "metadata": {
    "colab": {
     "base_uri": "https://localhost:8080/",
     "height": 204
    },
    "colab_type": "code",
    "id": "gMErsX6Zr8XD",
    "outputId": "c4e7feea-ac6c-490b-d116-84f21449ac1c"
   },
   "outputs": [
    {
     "data": {
      "text/plain": [
       "0    0\n",
       "1    1\n",
       "2    1\n",
       "3    0\n",
       "4    0\n",
       "5    0\n",
       "6    1\n",
       "7    0\n",
       "8    1\n",
       "9    1\n",
       "Name: RES, dtype: int64"
      ]
     },
     "execution_count": 18,
     "metadata": {},
     "output_type": "execute_result"
    }
   ],
   "source": [
    "dataset.RES.head(10)"
   ]
  },
  {
   "cell_type": "markdown",
   "metadata": {
    "colab_type": "text",
    "id": "-HKfuVisLhvd"
   },
   "source": [
    "# APLICACION DE MODELOS DE APRENDIZAJE AUTOMATICO"
   ]
  },
  {
   "cell_type": "markdown",
   "metadata": {
    "colab_type": "text",
    "id": "cm4vfmXpLxW8"
   },
   "source": [
    "\n",
    "#### Seleccion de variables y etiqueta\n",
    "\n",
    "Se parte de una hipotesis de que con tres variables se puede llegar a un resultado razonablemente preciso.  El resultado del Electrocardiograma (ELE),  Colesterol (COL) y la Depresion en el segmento T (DST) son las variables seleccionadas inicialmente.\n",
    "\n",
    "Con esas 3 variables, se obtiene una precision del 52%.   Para mejorar el resultado se agregan las variables: Edad, Presion, Tipo Dolor Pecho y Talasemia (EDAD, PSD, TD, TAL)\n",
    " \n"
   ]
  },
  {
   "cell_type": "code",
   "execution_count": 19,
   "metadata": {
    "colab": {
     "base_uri": "https://localhost:8080/",
     "height": 359
    },
    "colab_type": "code",
    "id": "q2rYmyjRL2HN",
    "outputId": "4e935cd6-9327-4400-ffeb-8cd7aa495d96"
   },
   "outputs": [],
   "source": [
    "features = dataset[['EDAD','PSD','ELE','DST','COL','TD','TAL']]\n",
    "labels = dataset['RES']"
   ]
  },
  {
   "cell_type": "markdown",
   "metadata": {},
   "source": [
    "#### Muestra de los datos a usar en el modelo"
   ]
  },
  {
   "cell_type": "code",
   "execution_count": 20,
   "metadata": {
    "colab": {
     "base_uri": "https://localhost:8080/",
     "height": 359
    },
    "colab_type": "code",
    "id": "q2rYmyjRL2HN",
    "outputId": "4e935cd6-9327-4400-ffeb-8cd7aa495d96"
   },
   "outputs": [
    {
     "data": {
      "text/html": [
       "<div>\n",
       "<style scoped>\n",
       "    .dataframe tbody tr th:only-of-type {\n",
       "        vertical-align: middle;\n",
       "    }\n",
       "\n",
       "    .dataframe tbody tr th {\n",
       "        vertical-align: top;\n",
       "    }\n",
       "\n",
       "    .dataframe thead th {\n",
       "        text-align: right;\n",
       "    }\n",
       "</style>\n",
       "<table border=\"1\" class=\"dataframe\">\n",
       "  <thead>\n",
       "    <tr style=\"text-align: right;\">\n",
       "      <th></th>\n",
       "      <th>EDAD</th>\n",
       "      <th>PSD</th>\n",
       "      <th>ELE</th>\n",
       "      <th>DST</th>\n",
       "      <th>COL</th>\n",
       "      <th>TD</th>\n",
       "      <th>TAL</th>\n",
       "    </tr>\n",
       "  </thead>\n",
       "  <tbody>\n",
       "    <tr>\n",
       "      <th>0</th>\n",
       "      <td>63.0</td>\n",
       "      <td>145.0</td>\n",
       "      <td>2.0</td>\n",
       "      <td>2.3</td>\n",
       "      <td>233.0</td>\n",
       "      <td>1.0</td>\n",
       "      <td>6.0</td>\n",
       "    </tr>\n",
       "    <tr>\n",
       "      <th>1</th>\n",
       "      <td>67.0</td>\n",
       "      <td>160.0</td>\n",
       "      <td>2.0</td>\n",
       "      <td>1.5</td>\n",
       "      <td>286.0</td>\n",
       "      <td>4.0</td>\n",
       "      <td>3.0</td>\n",
       "    </tr>\n",
       "    <tr>\n",
       "      <th>2</th>\n",
       "      <td>67.0</td>\n",
       "      <td>120.0</td>\n",
       "      <td>2.0</td>\n",
       "      <td>2.6</td>\n",
       "      <td>229.0</td>\n",
       "      <td>4.0</td>\n",
       "      <td>7.0</td>\n",
       "    </tr>\n",
       "    <tr>\n",
       "      <th>3</th>\n",
       "      <td>37.0</td>\n",
       "      <td>130.0</td>\n",
       "      <td>0.0</td>\n",
       "      <td>3.5</td>\n",
       "      <td>250.0</td>\n",
       "      <td>3.0</td>\n",
       "      <td>3.0</td>\n",
       "    </tr>\n",
       "    <tr>\n",
       "      <th>4</th>\n",
       "      <td>41.0</td>\n",
       "      <td>130.0</td>\n",
       "      <td>2.0</td>\n",
       "      <td>1.4</td>\n",
       "      <td>204.0</td>\n",
       "      <td>2.0</td>\n",
       "      <td>3.0</td>\n",
       "    </tr>\n",
       "    <tr>\n",
       "      <th>5</th>\n",
       "      <td>56.0</td>\n",
       "      <td>120.0</td>\n",
       "      <td>0.0</td>\n",
       "      <td>0.8</td>\n",
       "      <td>236.0</td>\n",
       "      <td>2.0</td>\n",
       "      <td>3.0</td>\n",
       "    </tr>\n",
       "    <tr>\n",
       "      <th>6</th>\n",
       "      <td>62.0</td>\n",
       "      <td>140.0</td>\n",
       "      <td>2.0</td>\n",
       "      <td>3.6</td>\n",
       "      <td>268.0</td>\n",
       "      <td>4.0</td>\n",
       "      <td>3.0</td>\n",
       "    </tr>\n",
       "    <tr>\n",
       "      <th>7</th>\n",
       "      <td>57.0</td>\n",
       "      <td>120.0</td>\n",
       "      <td>0.0</td>\n",
       "      <td>0.6</td>\n",
       "      <td>354.0</td>\n",
       "      <td>4.0</td>\n",
       "      <td>3.0</td>\n",
       "    </tr>\n",
       "    <tr>\n",
       "      <th>8</th>\n",
       "      <td>63.0</td>\n",
       "      <td>130.0</td>\n",
       "      <td>2.0</td>\n",
       "      <td>1.4</td>\n",
       "      <td>254.0</td>\n",
       "      <td>4.0</td>\n",
       "      <td>7.0</td>\n",
       "    </tr>\n",
       "    <tr>\n",
       "      <th>9</th>\n",
       "      <td>53.0</td>\n",
       "      <td>140.0</td>\n",
       "      <td>2.0</td>\n",
       "      <td>3.1</td>\n",
       "      <td>203.0</td>\n",
       "      <td>4.0</td>\n",
       "      <td>7.0</td>\n",
       "    </tr>\n",
       "  </tbody>\n",
       "</table>\n",
       "</div>"
      ],
      "text/plain": [
       "   EDAD    PSD  ELE  DST    COL   TD  TAL\n",
       "0  63.0  145.0  2.0  2.3  233.0  1.0  6.0\n",
       "1  67.0  160.0  2.0  1.5  286.0  4.0  3.0\n",
       "2  67.0  120.0  2.0  2.6  229.0  4.0  7.0\n",
       "3  37.0  130.0  0.0  3.5  250.0  3.0  3.0\n",
       "4  41.0  130.0  2.0  1.4  204.0  2.0  3.0\n",
       "5  56.0  120.0  0.0  0.8  236.0  2.0  3.0\n",
       "6  62.0  140.0  2.0  3.6  268.0  4.0  3.0\n",
       "7  57.0  120.0  0.0  0.6  354.0  4.0  3.0\n",
       "8  63.0  130.0  2.0  1.4  254.0  4.0  7.0\n",
       "9  53.0  140.0  2.0  3.1  203.0  4.0  7.0"
      ]
     },
     "execution_count": 20,
     "metadata": {},
     "output_type": "execute_result"
    }
   ],
   "source": [
    "features.head(10)"
   ]
  },
  {
   "cell_type": "markdown",
   "metadata": {
    "colab_type": "text",
    "id": "2v4rw_kfNwQP"
   },
   "source": [
    "#### Se dividen los datos en conjuntos de entrenamiento y prueba:\n"
   ]
  },
  {
   "cell_type": "code",
   "execution_count": 21,
   "metadata": {
    "colab": {},
    "colab_type": "code",
    "id": "nT_ClyJKN5NM"
   },
   "outputs": [],
   "source": [
    "from sklearn.model_selection import train_test_split\n",
    "X_train, X_test, y_train, y_test = train_test_split(features,labels, random_state=13)"
   ]
  },
  {
   "cell_type": "markdown",
   "metadata": {
    "colab_type": "text",
    "id": "BhmvazIyOTOb"
   },
   "source": [
    "#### Verificacion de dimensiones de los conjuntos de prueba y entrenamiento:\n",
    "\n"
   ]
  },
  {
   "cell_type": "code",
   "execution_count": 22,
   "metadata": {
    "colab": {
     "base_uri": "https://localhost:8080/",
     "height": 85
    },
    "colab_type": "code",
    "id": "RNmkCL7dOaV7",
    "outputId": "2897d201-ae22-4cc8-ba96-95c9fe3a7356"
   },
   "outputs": [
    {
     "name": "stdout",
     "output_type": "stream",
     "text": [
      "Dim X_Train: (222, 7)\n",
      "Dim y_Train: (222,)\n",
      "Dim X_Test: (75, 7)\n",
      "Dim y_Test: (75,)\n"
     ]
    }
   ],
   "source": [
    "print (\"Dim X_Train:\",X_train.shape)\n",
    "print (\"Dim y_Train:\",y_train.shape)\n",
    "print (\"Dim X_Test:\",X_test.shape)\n",
    "print (\"Dim y_Test:\",y_test.shape)"
   ]
  },
  {
   "cell_type": "markdown",
   "metadata": {
    "colab_type": "text",
    "id": "cgcFg93gPOWo"
   },
   "source": [
    "### CLASIFICADOR No1 - DECISION TREE"
   ]
  },
  {
   "cell_type": "markdown",
   "metadata": {},
   "source": [
    "#### IMPORTACION DE LIBRERIAS"
   ]
  },
  {
   "cell_type": "code",
   "execution_count": 23,
   "metadata": {
    "colab": {
     "base_uri": "https://localhost:8080/",
     "height": 119
    },
    "colab_type": "code",
    "id": "4W8DHcWrPgyX",
    "outputId": "69ea9b53-7355-4816-fa9d-9a7208264c25"
   },
   "outputs": [],
   "source": [
    "# IMPORTACION LIBRERIAS\n",
    "from sklearn.tree import DecisionTreeClassifier\n",
    "from sklearn.metrics import accuracy_score"
   ]
  },
  {
   "cell_type": "markdown",
   "metadata": {},
   "source": [
    "####  APLICACION DEL MODELO"
   ]
  },
  {
   "cell_type": "code",
   "execution_count": 24,
   "metadata": {
    "colab": {
     "base_uri": "https://localhost:8080/",
     "height": 119
    },
    "colab_type": "code",
    "id": "4W8DHcWrPgyX",
    "outputId": "69ea9b53-7355-4816-fa9d-9a7208264c25"
   },
   "outputs": [
    {
     "data": {
      "text/plain": [
       "DecisionTreeClassifier(class_weight=None, criterion='gini', max_depth=2,\n",
       "                       max_features=None, max_leaf_nodes=None,\n",
       "                       min_impurity_decrease=0.0, min_impurity_split=None,\n",
       "                       min_samples_leaf=1, min_samples_split=2,\n",
       "                       min_weight_fraction_leaf=0.0, presort=False,\n",
       "                       random_state=None, splitter='best')"
      ]
     },
     "execution_count": 24,
     "metadata": {},
     "output_type": "execute_result"
    }
   ],
   "source": [
    "#NIVEL DE PROFUNDIDAD 2\n",
    "DecisionTreeModel = DecisionTreeClassifier(max_depth = 2)\n",
    "\n",
    "#EJECUCION DEL ENTRENAMIENTO\n",
    "DecisionTreeModel.fit(X_train,y_train)"
   ]
  },
  {
   "cell_type": "markdown",
   "metadata": {},
   "source": [
    "#### SE APLICA EL MODELO A LOS VALORES DE PRUEBA"
   ]
  },
  {
   "cell_type": "code",
   "execution_count": 25,
   "metadata": {
    "colab": {},
    "colab_type": "code",
    "id": "w_av9O0WQLi5"
   },
   "outputs": [],
   "source": [
    "y_predict = DecisionTreeModel.predict(X_test)"
   ]
  },
  {
   "cell_type": "markdown",
   "metadata": {},
   "source": [
    "##### EVALUACION DE LA PRECISION DEL MODELO"
   ]
  },
  {
   "cell_type": "code",
   "execution_count": 26,
   "metadata": {
    "colab": {
     "base_uri": "https://localhost:8080/",
     "height": 34
    },
    "colab_type": "code",
    "id": "55cmbvHBQWre",
    "outputId": "3ef90b30-001f-4f00-f018-69bed5b19063"
   },
   "outputs": [
    {
     "data": {
      "text/plain": [
       "0.7733333333333333"
      ]
     },
     "execution_count": 26,
     "metadata": {},
     "output_type": "execute_result"
    }
   ],
   "source": [
    "dt1 = accuracy_score(y_test, y_predict)\n",
    "dt1"
   ]
  },
  {
   "cell_type": "markdown",
   "metadata": {},
   "source": [
    "### CONCLUSIONES\n",
    "Se encontraron las siguientes dificultados con la aplicación de este modelo:\n",
    "\n",
    "1. Las variables seleccionadas inicialmente no permitían un resultado preciso.  Se trabajó con tres variables y apenas se logró un 52% de precisión.    Se tuve que incrementar a 7 variables para llegar a un 77.3%\n",
    "\n",
    "\n",
    "2. Inicialmente se trabajó el modelo con la variable de salida tal y como viene en el dataset, con valores enteros 0 a 4.  Cero es positivo y 1,2,3 y 4 negativo para la enfermedad.  Cuando se categorizó esa variable a solo dos valores 0 y 1,  los resultados mejoraron significativamente.\n",
    "\n",
    "\n",
    "\n"
   ]
  },
  {
   "cell_type": "markdown",
   "metadata": {
    "colab_type": "text",
    "id": "65Bhqd7KF3e4"
   },
   "source": [
    "# METODOS DE ENSAMBLE\n",
    "\n",
    "En Aprendizaje Automático se conocen como métodos de esamble,  aquellos métodos que hacen uso de varios algoritmos combinados.  Esto para obtener un desempeño superior al que puede obtenerse con cada algoritmo individual.\n",
    "![texto alternativo](http://www.cs.us.es/~fsancho/images/2018-12/ensemble.png)\n",
    "\n",
    "\n",
    "En general,  los métodos de ensamble emplean estrategias denominadas: bagging,  boosting, o stacking.\n",
    "\n",
    "Bagging esta basado en agregación.  Combina multiples algoritmos para reducir la varianza de las predicciones. Uno de estos métodos es Randam Forest que entrena N arboles de decisiones con diferentes subconjuntos de datos, y al final se hace una votación para obtener la predicción final.  Bagging es un meta-algoritmo diseñado para conseguir combinaciones de modelos a partir de una familia inicial, provocando una disminución de la varianza y evitando el sobreajuste. Aunque lo más común es aplicarlo con los métodos basados en árboles de decisión, se puede usar con cualquier familia.\n",
    "\n",
    "Boosting emplea clasificadores simples de poca precisión para crear un clasificador más preciso. En este método no se crean versiones del conjunto de entrenamiento, sino que se trabaja siempre con el conjunto completo de entrada, y se manipulan los pesos de los datos para generar modelos distintos. La idea es que en cada iteración se incremente el peso de los objetos mal clasificados por el predictor en esa iteración, por lo que en la construcción del próximo predictor estos objetos serán más importantes y será más probable clasificarlos bien.\n",
    "\n",
    "\n",
    "\n",
    "La técnica de Stacking utiliza varios modelos para generar un nuevo set de datos que será empleado como datos de entrada para otro clasificador.\n",
    "\n",
    "\n",
    "\n",
    "\n",
    "\n",
    "\n",
    "## MODELO ADABOOST\n",
    "\n",
    "\n",
    "Adaboost combina multiples clasificadores para incrementar la precisión de la clasificación.  Es un método de esamble iterativo que emplea como base el asuste de los pesos de los clasificadores y el entrenamiento del modelo con los datos de prueba en cada interación.  Cualquier algoritmo que acepte pesos en el conjunto de entranamiento puede ser usado como algoritmo base.\n",
    "\n",
    "![texto alternativo](https://res.cloudinary.com/dyd911kmh/image/upload/f_auto,q_auto:best/v1542651255/image_3_nwa5zf.png)\n",
    "\n",
    "Pasos del modelo:\n",
    "\n",
    "1.Inicialmente, a todos los datos del conjunto de entrenamiento se les asigna un peso idéntico, wi=1n, donde n es el tamaño del conjunto de datos.\n",
    "\n",
    "2.Se entrena el modelo usando el conjunto de entrenamiento.\n",
    "\n",
    "3.Se calcula el error del modelo en el conjunto de entrenamiento, se cuentan cuántos objetos han sido mal clasificados y se identifican cuáles son.\n",
    "\n",
    "4.Se incrementan los pesos en aquellos casos de entrenamiento en los que el modelo anterior ha dado resultados erróneos.\n",
    "\n",
    "5.Se entrena un nuevo modelo usando el conjunto de pesos modificados.\n",
    "\n",
    "6.Volver al punto 3 (y se repite el proceso hasta el número de iteraciones fijadas inicialmente).\n",
    "\n",
    "El modelo final se consigue por votación ponderada usando los pesos de todos los modelos.\n",
    "\n",
    "\n",
    "![texto alternativo](http://www.cs.us.es/~fsancho/images/2018-12/boosting.png\n",
    ")\n",
    "\n",
    "\n",
    "# EJEMPLO DE USO DE ADABOOST\n",
    "\n",
    "Los parámetros más importantes para el uso del modelo son:  base_estimator, n_estimators, y learning_rate.\" \n",
    "\n",
    "base_estimator:  Algoritmo usado como base para entrenar   el modelo.  Como default emplea Decision Tree,  pero es posible especificar otros algoritmos.  \n",
    "\n",
    "n_estimators:  Número de  algoritmos que se van a entrenar en forma iterativa\n",
    "\n",
    "learning_rate:  Factor de variación de los pesos de los algoritmos base."
   ]
  },
  {
   "cell_type": "markdown",
   "metadata": {
    "colab_type": "text",
    "id": "lW0ECP1ePC4h"
   },
   "source": [
    "### USO DE ADABOOST CON EL MISMO SET DE DATOS\n",
    "\n",
    "Se emplean los mismos datos de entrenamiento y prueba que se han utilizado en los demás ejercicios.\n",
    "\n"
   ]
  },
  {
   "cell_type": "markdown",
   "metadata": {},
   "source": [
    "#### IMPORTACION DE LIBRERIA"
   ]
  },
  {
   "cell_type": "code",
   "execution_count": 27,
   "metadata": {
    "colab": {
     "base_uri": "https://localhost:8080/",
     "height": 34
    },
    "colab_type": "code",
    "id": "uIwFzzAVDbee",
    "outputId": "5e51bb8f-9a80-4780-9e6e-09d31110c2fe"
   },
   "outputs": [],
   "source": [
    "from sklearn.ensemble import AdaBoostClassifier"
   ]
  },
  {
   "cell_type": "markdown",
   "metadata": {},
   "source": [
    "##### APLICACION DEL META ALGORITMO\n",
    "Se hacen varios ensayos con diferentes n_estimators y learning_rate.  Estos son los valores que mostraron mejores resultados:"
   ]
  },
  {
   "cell_type": "code",
   "execution_count": 28,
   "metadata": {
    "colab": {
     "base_uri": "https://localhost:8080/",
     "height": 34
    },
    "colab_type": "code",
    "id": "uIwFzzAVDbee",
    "outputId": "5e51bb8f-9a80-4780-9e6e-09d31110c2fe"
   },
   "outputs": [],
   "source": [
    "abc = AdaBoostClassifier(n_estimators=8,\n",
    "                         learning_rate=.7)"
   ]
  },
  {
   "cell_type": "markdown",
   "metadata": {},
   "source": [
    "#### Entrenamiento del modelo"
   ]
  },
  {
   "cell_type": "code",
   "execution_count": 29,
   "metadata": {
    "colab": {
     "base_uri": "https://localhost:8080/",
     "height": 34
    },
    "colab_type": "code",
    "id": "uIwFzzAVDbee",
    "outputId": "5e51bb8f-9a80-4780-9e6e-09d31110c2fe"
   },
   "outputs": [],
   "source": [
    "model = abc.fit(X_train, y_train)"
   ]
  },
  {
   "cell_type": "markdown",
   "metadata": {},
   "source": [
    "#### EVALUACION DE LA PRECISION DEL MODELO"
   ]
  },
  {
   "cell_type": "code",
   "execution_count": 30,
   "metadata": {
    "colab": {
     "base_uri": "https://localhost:8080/",
     "height": 34
    },
    "colab_type": "code",
    "id": "uIwFzzAVDbee",
    "outputId": "5e51bb8f-9a80-4780-9e6e-09d31110c2fe"
   },
   "outputs": [
    {
     "data": {
      "text/plain": [
       "0.8133333333333334"
      ]
     },
     "execution_count": 30,
     "metadata": {},
     "output_type": "execute_result"
    }
   ],
   "source": [
    "y_pred = model.predict(X_test)\n",
    "dt2=accuracy_score(y_test, y_pred)\n",
    "dt2"
   ]
  },
  {
   "cell_type": "markdown",
   "metadata": {
    "colab": {},
    "colab_type": "code",
    "id": "YNmFO-LIDc7h"
   },
   "source": [
    "### CONCLUSIONES\n",
    "\n",
    "Se ensayaron diferentes valores para los parametros n_estimators, en donde se probó desde 3 hasta 25 con los mejores resultados en 0.7\n",
    "\n",
    "El Learning_rate debe ser 1,  valores mayores dan muy pobres resultados.\n",
    "\n",
    "Posiblemente por ser un caso muy sencillo,  el incremento en el rendimiento por el uso de este algoritmo versus uno simple, es de un 5% (77,3% vrs 81,3%)"
   ]
  },
  {
   "cell_type": "code",
   "execution_count": null,
   "metadata": {
    "colab": {},
    "colab_type": "code",
    "id": "szE6p8HYDYkJ"
   },
   "outputs": [],
   "source": []
  }
 ],
 "metadata": {
  "colab": {
   "name": "Tarea14agosto.ipynb",
   "provenance": [],
   "version": "0.3.2"
  },
  "kernelspec": {
   "display_name": "Python 3",
   "language": "python",
   "name": "python3"
  },
  "language_info": {
   "codemirror_mode": {
    "name": "ipython",
    "version": 3
   },
   "file_extension": ".py",
   "mimetype": "text/x-python",
   "name": "python",
   "nbconvert_exporter": "python",
   "pygments_lexer": "ipython3",
   "version": "3.7.3"
  }
 },
 "nbformat": 4,
 "nbformat_minor": 1
}

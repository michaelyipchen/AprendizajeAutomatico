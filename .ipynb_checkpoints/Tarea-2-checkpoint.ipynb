{
 "cells": [
  {
   "cell_type": "markdown",
   "metadata": {},
   "source": [
    "# Tarea 2\n",
    "\n",
    "Elaborado por: Anthony Cascante, Michael Yip"
   ]
  },
  {
   "cell_type": "markdown",
   "metadata": {},
   "source": [
    "## Tutorial de Pandas\n",
    "\n",
    "Este tutorial muestra las funciones basicas de para el uso de la biblioteca Pandas orientado al preprocesamiento de datos.\n",
    "Aunque no se muestren la totalidad de funciones que ofrece la biblioteca Pandas, se muestra y ejemplifica las funciones que se consideren de importancia \n",
    "\n"
   ]
  },
  {
   "cell_type": "markdown",
   "metadata": {},
   "source": [
    "### Dependencias\n",
    "\n",
    "Se importan las bibliotecas necesarias para la implementacion del tutorial"
   ]
  },
  {
   "cell_type": "code",
   "execution_count": 3,
   "metadata": {},
   "outputs": [],
   "source": [
    "import pandas as pd"
   ]
  },
  {
   "cell_type": "markdown",
   "metadata": {},
   "source": [
    "### Carga de Dataset\n",
    "\n",
    "Se utiliza el set de datos *daily-min-temperatures.csv*\n",
    "\n",
    "La funcion **read_csv** toma como input una ruta donde se encuentran el set datos en formato CSV y los carga a la variable *daily_min_temperatures*"
   ]
  },
  {
   "cell_type": "code",
   "execution_count": 4,
   "metadata": {},
   "outputs": [],
   "source": [
    "daily_min_temperatures = pd.read_csv('daily-min-temperatures.csv')"
   ]
  },
  {
   "cell_type": "code",
   "execution_count": null,
   "metadata": {},
   "outputs": [],
   "source": []
  }
 ],
 "metadata": {
  "kernelspec": {
   "display_name": "Python 3",
   "language": "python",
   "name": "python3"
  },
  "language_info": {
   "codemirror_mode": {
    "name": "ipython",
    "version": 3
   },
   "file_extension": ".py",
   "mimetype": "text/x-python",
   "name": "python",
   "nbconvert_exporter": "python",
   "pygments_lexer": "ipython3",
   "version": "3.7.3"
  }
 },
 "nbformat": 4,
 "nbformat_minor": 2
}

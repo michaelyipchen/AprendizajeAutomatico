{
  "nbformat": 4,
  "nbformat_minor": 0,
  "metadata": {
    "colab": {
      "name": "Tarea14agosto.ipynb",
      "version": "0.3.2",
      "provenance": [],
      "include_colab_link": true
    },
    "kernelspec": {
      "name": "python3",
      "display_name": "Python 3"
    }
  },
  "cells": [
    {
      "cell_type": "markdown",
      "metadata": {
        "id": "view-in-github",
        "colab_type": "text"
      },
      "source": [
        "<a href=\"https://colab.research.google.com/github/michaelyipchen/AprendizajeAutomatico/blob/dev/Tarea14agosto.ipynb\" target=\"_parent\"><img src=\"https://colab.research.google.com/assets/colab-badge.svg\" alt=\"Open In Colab\"/></a>"
      ]
    },
    {
      "cell_type": "markdown",
      "metadata": {
        "id": "sooJZRVZOngO",
        "colab_type": "text"
      },
      "source": [
        "## **PREDICCION DE ENFERMEDAD CARDIACA**\n"
      ]
    },
    {
      "cell_type": "markdown",
      "metadata": {
        "id": "U8xMYmsXO3Oe",
        "colab_type": "text"
      },
      "source": [
        "Uso del  Heart Disease Data Set para ejercicio de prediccion\n"
      ]
    },
    {
      "cell_type": "markdown",
      "metadata": {
        "id": "AqVm2pqfPMcK",
        "colab_type": "text"
      },
      "source": [
        "**IMPORTACION LIBRERIAS Y DATASET**"
      ]
    },
    {
      "cell_type": "code",
      "metadata": {
        "id": "7VTYB3HeBGrO",
        "colab_type": "code",
        "outputId": "0fce41a4-b139-4819-f5e8-c0605068ea00",
        "colab": {
          "base_uri": "https://localhost:8080/",
          "height": 359
        }
      },
      "source": [
        "\n",
        "import pandas as pd \n",
        "from pandas import read_csv\n",
        "url = \"https://archive.ics.uci.edu/ml/machine-learning-databases/heart-disease/processed.cleveland.data\"\n",
        "dataset = pd.read_csv(url)\n",
        "dataset.head(10)\n"
      ],
      "execution_count": 655,
      "outputs": [
        {
          "output_type": "execute_result",
          "data": {
            "text/html": [
              "<div>\n",
              "<style scoped>\n",
              "    .dataframe tbody tr th:only-of-type {\n",
              "        vertical-align: middle;\n",
              "    }\n",
              "\n",
              "    .dataframe tbody tr th {\n",
              "        vertical-align: top;\n",
              "    }\n",
              "\n",
              "    .dataframe thead th {\n",
              "        text-align: right;\n",
              "    }\n",
              "</style>\n",
              "<table border=\"1\" class=\"dataframe\">\n",
              "  <thead>\n",
              "    <tr style=\"text-align: right;\">\n",
              "      <th></th>\n",
              "      <th>63.0</th>\n",
              "      <th>1.0</th>\n",
              "      <th>1.0.1</th>\n",
              "      <th>145.0</th>\n",
              "      <th>233.0</th>\n",
              "      <th>1.0.2</th>\n",
              "      <th>2.0</th>\n",
              "      <th>150.0</th>\n",
              "      <th>0.0</th>\n",
              "      <th>2.3</th>\n",
              "      <th>3.0</th>\n",
              "      <th>0.0.1</th>\n",
              "      <th>6.0</th>\n",
              "      <th>0</th>\n",
              "    </tr>\n",
              "  </thead>\n",
              "  <tbody>\n",
              "    <tr>\n",
              "      <th>0</th>\n",
              "      <td>67.0</td>\n",
              "      <td>1.0</td>\n",
              "      <td>4.0</td>\n",
              "      <td>160.0</td>\n",
              "      <td>286.0</td>\n",
              "      <td>0.0</td>\n",
              "      <td>2.0</td>\n",
              "      <td>108.0</td>\n",
              "      <td>1.0</td>\n",
              "      <td>1.5</td>\n",
              "      <td>2.0</td>\n",
              "      <td>3.0</td>\n",
              "      <td>3.0</td>\n",
              "      <td>2</td>\n",
              "    </tr>\n",
              "    <tr>\n",
              "      <th>1</th>\n",
              "      <td>67.0</td>\n",
              "      <td>1.0</td>\n",
              "      <td>4.0</td>\n",
              "      <td>120.0</td>\n",
              "      <td>229.0</td>\n",
              "      <td>0.0</td>\n",
              "      <td>2.0</td>\n",
              "      <td>129.0</td>\n",
              "      <td>1.0</td>\n",
              "      <td>2.6</td>\n",
              "      <td>2.0</td>\n",
              "      <td>2.0</td>\n",
              "      <td>7.0</td>\n",
              "      <td>1</td>\n",
              "    </tr>\n",
              "    <tr>\n",
              "      <th>2</th>\n",
              "      <td>37.0</td>\n",
              "      <td>1.0</td>\n",
              "      <td>3.0</td>\n",
              "      <td>130.0</td>\n",
              "      <td>250.0</td>\n",
              "      <td>0.0</td>\n",
              "      <td>0.0</td>\n",
              "      <td>187.0</td>\n",
              "      <td>0.0</td>\n",
              "      <td>3.5</td>\n",
              "      <td>3.0</td>\n",
              "      <td>0.0</td>\n",
              "      <td>3.0</td>\n",
              "      <td>0</td>\n",
              "    </tr>\n",
              "    <tr>\n",
              "      <th>3</th>\n",
              "      <td>41.0</td>\n",
              "      <td>0.0</td>\n",
              "      <td>2.0</td>\n",
              "      <td>130.0</td>\n",
              "      <td>204.0</td>\n",
              "      <td>0.0</td>\n",
              "      <td>2.0</td>\n",
              "      <td>172.0</td>\n",
              "      <td>0.0</td>\n",
              "      <td>1.4</td>\n",
              "      <td>1.0</td>\n",
              "      <td>0.0</td>\n",
              "      <td>3.0</td>\n",
              "      <td>0</td>\n",
              "    </tr>\n",
              "    <tr>\n",
              "      <th>4</th>\n",
              "      <td>56.0</td>\n",
              "      <td>1.0</td>\n",
              "      <td>2.0</td>\n",
              "      <td>120.0</td>\n",
              "      <td>236.0</td>\n",
              "      <td>0.0</td>\n",
              "      <td>0.0</td>\n",
              "      <td>178.0</td>\n",
              "      <td>0.0</td>\n",
              "      <td>0.8</td>\n",
              "      <td>1.0</td>\n",
              "      <td>0.0</td>\n",
              "      <td>3.0</td>\n",
              "      <td>0</td>\n",
              "    </tr>\n",
              "    <tr>\n",
              "      <th>5</th>\n",
              "      <td>62.0</td>\n",
              "      <td>0.0</td>\n",
              "      <td>4.0</td>\n",
              "      <td>140.0</td>\n",
              "      <td>268.0</td>\n",
              "      <td>0.0</td>\n",
              "      <td>2.0</td>\n",
              "      <td>160.0</td>\n",
              "      <td>0.0</td>\n",
              "      <td>3.6</td>\n",
              "      <td>3.0</td>\n",
              "      <td>2.0</td>\n",
              "      <td>3.0</td>\n",
              "      <td>3</td>\n",
              "    </tr>\n",
              "    <tr>\n",
              "      <th>6</th>\n",
              "      <td>57.0</td>\n",
              "      <td>0.0</td>\n",
              "      <td>4.0</td>\n",
              "      <td>120.0</td>\n",
              "      <td>354.0</td>\n",
              "      <td>0.0</td>\n",
              "      <td>0.0</td>\n",
              "      <td>163.0</td>\n",
              "      <td>1.0</td>\n",
              "      <td>0.6</td>\n",
              "      <td>1.0</td>\n",
              "      <td>0.0</td>\n",
              "      <td>3.0</td>\n",
              "      <td>0</td>\n",
              "    </tr>\n",
              "    <tr>\n",
              "      <th>7</th>\n",
              "      <td>63.0</td>\n",
              "      <td>1.0</td>\n",
              "      <td>4.0</td>\n",
              "      <td>130.0</td>\n",
              "      <td>254.0</td>\n",
              "      <td>0.0</td>\n",
              "      <td>2.0</td>\n",
              "      <td>147.0</td>\n",
              "      <td>0.0</td>\n",
              "      <td>1.4</td>\n",
              "      <td>2.0</td>\n",
              "      <td>1.0</td>\n",
              "      <td>7.0</td>\n",
              "      <td>2</td>\n",
              "    </tr>\n",
              "    <tr>\n",
              "      <th>8</th>\n",
              "      <td>53.0</td>\n",
              "      <td>1.0</td>\n",
              "      <td>4.0</td>\n",
              "      <td>140.0</td>\n",
              "      <td>203.0</td>\n",
              "      <td>1.0</td>\n",
              "      <td>2.0</td>\n",
              "      <td>155.0</td>\n",
              "      <td>1.0</td>\n",
              "      <td>3.1</td>\n",
              "      <td>3.0</td>\n",
              "      <td>0.0</td>\n",
              "      <td>7.0</td>\n",
              "      <td>1</td>\n",
              "    </tr>\n",
              "    <tr>\n",
              "      <th>9</th>\n",
              "      <td>57.0</td>\n",
              "      <td>1.0</td>\n",
              "      <td>4.0</td>\n",
              "      <td>140.0</td>\n",
              "      <td>192.0</td>\n",
              "      <td>0.0</td>\n",
              "      <td>0.0</td>\n",
              "      <td>148.0</td>\n",
              "      <td>0.0</td>\n",
              "      <td>0.4</td>\n",
              "      <td>2.0</td>\n",
              "      <td>0.0</td>\n",
              "      <td>6.0</td>\n",
              "      <td>0</td>\n",
              "    </tr>\n",
              "  </tbody>\n",
              "</table>\n",
              "</div>"
            ],
            "text/plain": [
              "   63.0  1.0  1.0.1  145.0  233.0  1.0.2  ...  0.0  2.3  3.0  0.0.1  6.0  0\n",
              "0  67.0  1.0    4.0  160.0  286.0    0.0  ...  1.0  1.5  2.0    3.0  3.0  2\n",
              "1  67.0  1.0    4.0  120.0  229.0    0.0  ...  1.0  2.6  2.0    2.0  7.0  1\n",
              "2  37.0  1.0    3.0  130.0  250.0    0.0  ...  0.0  3.5  3.0    0.0  3.0  0\n",
              "3  41.0  0.0    2.0  130.0  204.0    0.0  ...  0.0  1.4  1.0    0.0  3.0  0\n",
              "4  56.0  1.0    2.0  120.0  236.0    0.0  ...  0.0  0.8  1.0    0.0  3.0  0\n",
              "5  62.0  0.0    4.0  140.0  268.0    0.0  ...  0.0  3.6  3.0    2.0  3.0  3\n",
              "6  57.0  0.0    4.0  120.0  354.0    0.0  ...  1.0  0.6  1.0    0.0  3.0  0\n",
              "7  63.0  1.0    4.0  130.0  254.0    0.0  ...  0.0  1.4  2.0    1.0  7.0  2\n",
              "8  53.0  1.0    4.0  140.0  203.0    1.0  ...  1.0  3.1  3.0    0.0  7.0  1\n",
              "9  57.0  1.0    4.0  140.0  192.0    0.0  ...  0.0  0.4  2.0    0.0  6.0  0\n",
              "\n",
              "[10 rows x 14 columns]"
            ]
          },
          "metadata": {
            "tags": []
          },
          "execution_count": 655
        }
      ]
    },
    {
      "cell_type": "code",
      "metadata": {
        "id": "cJPY4vODe_6I",
        "colab_type": "code",
        "colab": {
          "base_uri": "https://localhost:8080/",
          "height": 272
        },
        "outputId": "c888aa89-1576-40aa-df2f-b6b78ac756d6"
      },
      "source": [
        "dataset.dtypes"
      ],
      "execution_count": 656,
      "outputs": [
        {
          "output_type": "execute_result",
          "data": {
            "text/plain": [
              "63.0     float64\n",
              "1.0      float64\n",
              "1.0.1    float64\n",
              "145.0    float64\n",
              "233.0    float64\n",
              "1.0.2    float64\n",
              "2.0      float64\n",
              "150.0    float64\n",
              "0.0      float64\n",
              "2.3      float64\n",
              "3.0      float64\n",
              "0.0.1     object\n",
              "6.0       object\n",
              "0          int64\n",
              "dtype: object"
            ]
          },
          "metadata": {
            "tags": []
          },
          "execution_count": 656
        }
      ]
    },
    {
      "cell_type": "code",
      "metadata": {
        "id": "CoUytiLPgILP",
        "colab_type": "code",
        "colab": {}
      },
      "source": [
        "#cols = dataset.columns[dataset.dtypes.eq(object)]\n",
        "#@cols\n",
        "#dataset[cols] = dataset[cols].apply(pd.to_numeric, errors='coerce')\n",
        "#dataset.dtypes"
      ],
      "execution_count": 0,
      "outputs": []
    },
    {
      "cell_type": "markdown",
      "metadata": {
        "id": "IG3UCVGiEtpy",
        "colab_type": "text"
      },
      "source": [
        "## PREPARACION DE LOS DATOS\n",
        "\n",
        " DESCRIPCION DE LAS VARIABLES\n",
        "\n",
        "1.   EDAD : Edad del individuo\n",
        "2.   SEX : Sexo del individuo\n",
        "3.   TD: Tipo de dolor de pecho 1-tipico, 2-No tipico, 3-No dolor, 4 -Asintomatico\n",
        "4.   PSD : Presion arterial en reposo\n",
        "5.   COL : Nivel de colesterol\n",
        "6.   AZA: Nivel de azucar en la sangre en ayuno 1-Si es superior a 120mg/dl, 0-Si es inferior\n",
        "7.   ELE: Eletrocardiograma 0-Normal, 1 y 2 Anormal\n",
        "8.   FCO: Frecuencia cardiaca objetivo\n",
        "9.   AIE:  Angina inducida por el ejercicio 1-Si, 0-No\n",
        "10. DST: Depresion en el segmento ST Electrocardiograma \n",
        "11.  PEN: Pendiente de segmento ST en ejercicio 1-Sube, 2-Plano, 3-Baja.\n",
        "12.  VAS: Numero de vasos (0-3) coloreados por fluoroscopia\n",
        "13. TAL: Talasemia 3-Normal, 6-Defecto permanente, 7-Defecto reversible\n",
        "14.  RES: Enfermedad cardiaca.  Mayor a 0 no hay enfermedad cardiaca\n",
        "\n"
      ]
    },
    {
      "cell_type": "code",
      "metadata": {
        "id": "-042ZXtvBzcm",
        "colab_type": "code",
        "outputId": "43152fc5-507f-4b21-b412-2b055c699cae",
        "colab": {
          "base_uri": "https://localhost:8080/",
          "height": 238
        }
      },
      "source": [
        "#agregar nombres a las columnas deel dataset\n",
        "names =[\"EDAD\", \"SEXO\", \"TD\", \"PSD\", \"COL\",\"AZA\", \"ELE\", \"FCO\",\"AIE\", \"DST\",\"PEN\", \"VAS\", \"TAL\", \"RES\"]\n",
        "dataset = pd.read_csv(url, names=names)\n",
        "\n",
        "print (dataset.head(10))\n",
        "print (\"TAMAÑO:\",dataset.size)\n",
        "print (\"DIMENSIONES:\", dataset.shape)"
      ],
      "execution_count": 658,
      "outputs": [
        {
          "output_type": "stream",
          "text": [
            "   EDAD  SEXO   TD    PSD    COL  AZA  ELE    FCO  AIE  DST  PEN  VAS  TAL  RES\n",
            "0  63.0   1.0  1.0  145.0  233.0  1.0  2.0  150.0  0.0  2.3  3.0  0.0  6.0    0\n",
            "1  67.0   1.0  4.0  160.0  286.0  0.0  2.0  108.0  1.0  1.5  2.0  3.0  3.0    2\n",
            "2  67.0   1.0  4.0  120.0  229.0  0.0  2.0  129.0  1.0  2.6  2.0  2.0  7.0    1\n",
            "3  37.0   1.0  3.0  130.0  250.0  0.0  0.0  187.0  0.0  3.5  3.0  0.0  3.0    0\n",
            "4  41.0   0.0  2.0  130.0  204.0  0.0  2.0  172.0  0.0  1.4  1.0  0.0  3.0    0\n",
            "5  56.0   1.0  2.0  120.0  236.0  0.0  0.0  178.0  0.0  0.8  1.0  0.0  3.0    0\n",
            "6  62.0   0.0  4.0  140.0  268.0  0.0  2.0  160.0  0.0  3.6  3.0  2.0  3.0    3\n",
            "7  57.0   0.0  4.0  120.0  354.0  0.0  0.0  163.0  1.0  0.6  1.0  0.0  3.0    0\n",
            "8  63.0   1.0  4.0  130.0  254.0  0.0  2.0  147.0  0.0  1.4  2.0  1.0  7.0    2\n",
            "9  53.0   1.0  4.0  140.0  203.0  1.0  2.0  155.0  1.0  3.1  3.0  0.0  7.0    1\n",
            "TAMAÑO: 4242\n",
            "DIMENSIONES: (303, 14)\n"
          ],
          "name": "stdout"
        }
      ]
    },
    {
      "cell_type": "markdown",
      "metadata": {
        "id": "0Nzgtq_NK9Xh",
        "colab_type": "text"
      },
      "source": [
        "Revision de datos para verificar existencia de NaN"
      ]
    },
    {
      "cell_type": "code",
      "metadata": {
        "id": "N5Mz1VuyK-33",
        "colab_type": "code",
        "colab": {}
      },
      "source": [
        "\n",
        "#dataset.isnull().values.any()\n",
        "#dataset = dataset.dropna()"
      ],
      "execution_count": 0,
      "outputs": []
    },
    {
      "cell_type": "code",
      "metadata": {
        "id": "vBWcaPrUkD39",
        "colab_type": "code",
        "colab": {}
      },
      "source": [
        ""
      ],
      "execution_count": 0,
      "outputs": []
    },
    {
      "cell_type": "code",
      "metadata": {
        "id": "Y25pbH3TkCmp",
        "colab_type": "code",
        "colab": {
          "base_uri": "https://localhost:8080/",
          "height": 272
        },
        "outputId": "6b5344a4-ca03-495f-a4d4-5c8f40ce0259"
      },
      "source": [
        "dataset.dtypes"
      ],
      "execution_count": 660,
      "outputs": [
        {
          "output_type": "execute_result",
          "data": {
            "text/plain": [
              "EDAD    float64\n",
              "SEXO    float64\n",
              "TD      float64\n",
              "PSD     float64\n",
              "COL     float64\n",
              "AZA     float64\n",
              "ELE     float64\n",
              "FCO     float64\n",
              "AIE     float64\n",
              "DST     float64\n",
              "PEN     float64\n",
              "VAS      object\n",
              "TAL      object\n",
              "RES       int64\n",
              "dtype: object"
            ]
          },
          "metadata": {
            "tags": []
          },
          "execution_count": 660
        }
      ]
    },
    {
      "cell_type": "markdown",
      "metadata": {
        "id": "oDDbaWzclrEI",
        "colab_type": "text"
      },
      "source": [
        "\n",
        "\n",
        "> Las columnas VAS y TAL son de tipo texto,  para identificar valores nulos, se pasan toda la columna a valores numericos y luego se encuentran NaN:\n",
        "\n"
      ]
    },
    {
      "cell_type": "code",
      "metadata": {
        "id": "jYjdGeuzmH3v",
        "colab_type": "code",
        "colab": {
          "base_uri": "https://localhost:8080/",
          "height": 34
        },
        "outputId": "f18fec92-1056-41c7-89ee-649c49df8ba4"
      },
      "source": [
        "#DETERMINAR NaN con el dataset con las columnas sin convertir a numerico\n",
        "dataset.isnull().values.any()\n"
      ],
      "execution_count": 661,
      "outputs": [
        {
          "output_type": "execute_result",
          "data": {
            "text/plain": [
              "False"
            ]
          },
          "metadata": {
            "tags": []
          },
          "execution_count": 661
        }
      ]
    },
    {
      "cell_type": "code",
      "metadata": {
        "id": "ov_keRmFkf_m",
        "colab_type": "code",
        "colab": {
          "base_uri": "https://localhost:8080/",
          "height": 272
        },
        "outputId": "22dd3bbb-ec38-44bf-a55c-12ad5753784d"
      },
      "source": [
        "#CONVERTIR COLUMNAS TAL Y RES A NUMERICO\n",
        "cols = dataset.columns[dataset.dtypes.eq(object)]\n",
        "cols\n",
        "dataset[cols] = dataset[cols].apply(pd.to_numeric, errors='coerce')\n",
        "dataset.dtypes"
      ],
      "execution_count": 662,
      "outputs": [
        {
          "output_type": "execute_result",
          "data": {
            "text/plain": [
              "EDAD    float64\n",
              "SEXO    float64\n",
              "TD      float64\n",
              "PSD     float64\n",
              "COL     float64\n",
              "AZA     float64\n",
              "ELE     float64\n",
              "FCO     float64\n",
              "AIE     float64\n",
              "DST     float64\n",
              "PEN     float64\n",
              "VAS     float64\n",
              "TAL     float64\n",
              "RES       int64\n",
              "dtype: object"
            ]
          },
          "metadata": {
            "tags": []
          },
          "execution_count": 662
        }
      ]
    },
    {
      "cell_type": "code",
      "metadata": {
        "id": "VVmhEFXqktfh",
        "colab_type": "code",
        "colab": {
          "base_uri": "https://localhost:8080/",
          "height": 34
        },
        "outputId": "9f03006b-de46-4d8d-8f8a-4cc81cc66acd"
      },
      "source": [
        "\n",
        "#EVALUAR NUEVAMENTE NaN\n",
        "dataset.isnull().values.any()\n"
      ],
      "execution_count": 663,
      "outputs": [
        {
          "output_type": "execute_result",
          "data": {
            "text/plain": [
              "True"
            ]
          },
          "metadata": {
            "tags": []
          },
          "execution_count": 663
        }
      ]
    },
    {
      "cell_type": "code",
      "metadata": {
        "id": "yEdAGAQYm8Qw",
        "colab_type": "code",
        "colab": {}
      },
      "source": [
        "#ELIMINAR NaN\n",
        "dataset = dataset.dropna()"
      ],
      "execution_count": 0,
      "outputs": []
    },
    {
      "cell_type": "code",
      "metadata": {
        "id": "OFYVbF9yj5mL",
        "colab_type": "code",
        "colab": {
          "base_uri": "https://localhost:8080/",
          "height": 272
        },
        "outputId": "d3a2290f-6451-496a-c187-60559c9d2721"
      },
      "source": [
        " #dataset[[\"VAS\", \"TAL\"]] = dataset[[\"VAS\", \"TAL\"]].astype(str)\n",
        " dataset[[\"SEXO\",\"TD\",\"AZA\",\"ELE\",\"AIE\",\"PEN\",\"VAS\",\"TAL\"]] = dataset[[\"SEXO\",\"TD\",\"AZA\",\"ELE\",\"AIE\",\"PEN\",\"VAS\",\"TAL\"]].astype(str)\n",
        " dataset.dtypes"
      ],
      "execution_count": 665,
      "outputs": [
        {
          "output_type": "execute_result",
          "data": {
            "text/plain": [
              "EDAD    float64\n",
              "SEXO     object\n",
              "TD       object\n",
              "PSD     float64\n",
              "COL     float64\n",
              "AZA      object\n",
              "ELE      object\n",
              "FCO     float64\n",
              "AIE      object\n",
              "DST     float64\n",
              "PEN      object\n",
              "VAS      object\n",
              "TAL      object\n",
              "RES       int64\n",
              "dtype: object"
            ]
          },
          "metadata": {
            "tags": []
          },
          "execution_count": 665
        }
      ]
    },
    {
      "cell_type": "markdown",
      "metadata": {
        "id": "DzIoixdszxVb",
        "colab_type": "text"
      },
      "source": [
        "# PROCESADO DE LA VARIABLE DE RESULTADOS\n",
        "\n",
        "Las variable RES muestra la condicion cardiaca de la muestra.  Un valor 0 indica que la persona tiene enfermedad cardiaca,  valores 1,2,3 y 4 indican que no posee esa condicion.    Los datos se consolidan para que muestren 0 si es positivo para enfermedad y si los datos son 1,2,3 y 4 mostrara un 1, indicando negativo para enfermedad cardiaca."
      ]
    },
    {
      "cell_type": "code",
      "metadata": {
        "id": "gMErsX6Zr8XD",
        "colab_type": "code",
        "colab": {
          "base_uri": "https://localhost:8080/",
          "height": 204
        },
        "outputId": "73129804-85db-4382-da1e-18ea75c2dc63"
      },
      "source": [
        "#AGRUPANDO DATOS DE SALIDA\n",
        "\n",
        "dataset.loc[dataset['RES'] == 0, 'RES'] = 0\n",
        "dataset.loc[(dataset['RES'] >0), 'RES'] = 1\n",
        "dataset.RES.head(10)"
      ],
      "execution_count": 666,
      "outputs": [
        {
          "output_type": "execute_result",
          "data": {
            "text/plain": [
              "0    0\n",
              "1    1\n",
              "2    1\n",
              "3    0\n",
              "4    0\n",
              "5    0\n",
              "6    1\n",
              "7    0\n",
              "8    1\n",
              "9    1\n",
              "Name: RES, dtype: int64"
            ]
          },
          "metadata": {
            "tags": []
          },
          "execution_count": 666
        }
      ]
    },
    {
      "cell_type": "markdown",
      "metadata": {
        "id": "-HKfuVisLhvd",
        "colab_type": "text"
      },
      "source": [
        "# APLICACION DE MODELOS DE APRENDIZAJE AUTOMATICO"
      ]
    },
    {
      "cell_type": "markdown",
      "metadata": {
        "id": "cm4vfmXpLxW8",
        "colab_type": "text"
      },
      "source": [
        "\n",
        ">Seleccion de variables y etiqueta\n",
        "\n",
        "Se parte de una hipotesis de que con tres variables se puede llegar a un resultado razonablemente preciso.  El resultado del Electrocardiograma (ELE),  Colesterol (COL) y la Depresion en el segmento T (DST) son las variables seleccionadas inicialmente.\n",
        "\n",
        "Con esas 3 variables, se obtiene una precision del 52%.   Para mejorar el resultado se agregan las variables: Edad, Presion y Tipo Dolor Pecho (EDAD, PAS, TD)\n",
        " \n"
      ]
    },
    {
      "cell_type": "code",
      "metadata": {
        "id": "q2rYmyjRL2HN",
        "colab_type": "code",
        "colab": {
          "base_uri": "https://localhost:8080/",
          "height": 359
        },
        "outputId": "75b39dec-b968-4d6f-eca9-13a8f650608e"
      },
      "source": [
        "features = dataset[['EDAD','PSD','ELE','DST','COL','TD','TAL']]\n",
        "labels = dataset['RES']\n",
        "features.head(10)"
      ],
      "execution_count": 667,
      "outputs": [
        {
          "output_type": "execute_result",
          "data": {
            "text/html": [
              "<div>\n",
              "<style scoped>\n",
              "    .dataframe tbody tr th:only-of-type {\n",
              "        vertical-align: middle;\n",
              "    }\n",
              "\n",
              "    .dataframe tbody tr th {\n",
              "        vertical-align: top;\n",
              "    }\n",
              "\n",
              "    .dataframe thead th {\n",
              "        text-align: right;\n",
              "    }\n",
              "</style>\n",
              "<table border=\"1\" class=\"dataframe\">\n",
              "  <thead>\n",
              "    <tr style=\"text-align: right;\">\n",
              "      <th></th>\n",
              "      <th>EDAD</th>\n",
              "      <th>PSD</th>\n",
              "      <th>ELE</th>\n",
              "      <th>DST</th>\n",
              "      <th>COL</th>\n",
              "      <th>TD</th>\n",
              "      <th>TAL</th>\n",
              "    </tr>\n",
              "  </thead>\n",
              "  <tbody>\n",
              "    <tr>\n",
              "      <th>0</th>\n",
              "      <td>63.0</td>\n",
              "      <td>145.0</td>\n",
              "      <td>2.0</td>\n",
              "      <td>2.3</td>\n",
              "      <td>233.0</td>\n",
              "      <td>1.0</td>\n",
              "      <td>6.0</td>\n",
              "    </tr>\n",
              "    <tr>\n",
              "      <th>1</th>\n",
              "      <td>67.0</td>\n",
              "      <td>160.0</td>\n",
              "      <td>2.0</td>\n",
              "      <td>1.5</td>\n",
              "      <td>286.0</td>\n",
              "      <td>4.0</td>\n",
              "      <td>3.0</td>\n",
              "    </tr>\n",
              "    <tr>\n",
              "      <th>2</th>\n",
              "      <td>67.0</td>\n",
              "      <td>120.0</td>\n",
              "      <td>2.0</td>\n",
              "      <td>2.6</td>\n",
              "      <td>229.0</td>\n",
              "      <td>4.0</td>\n",
              "      <td>7.0</td>\n",
              "    </tr>\n",
              "    <tr>\n",
              "      <th>3</th>\n",
              "      <td>37.0</td>\n",
              "      <td>130.0</td>\n",
              "      <td>0.0</td>\n",
              "      <td>3.5</td>\n",
              "      <td>250.0</td>\n",
              "      <td>3.0</td>\n",
              "      <td>3.0</td>\n",
              "    </tr>\n",
              "    <tr>\n",
              "      <th>4</th>\n",
              "      <td>41.0</td>\n",
              "      <td>130.0</td>\n",
              "      <td>2.0</td>\n",
              "      <td>1.4</td>\n",
              "      <td>204.0</td>\n",
              "      <td>2.0</td>\n",
              "      <td>3.0</td>\n",
              "    </tr>\n",
              "    <tr>\n",
              "      <th>5</th>\n",
              "      <td>56.0</td>\n",
              "      <td>120.0</td>\n",
              "      <td>0.0</td>\n",
              "      <td>0.8</td>\n",
              "      <td>236.0</td>\n",
              "      <td>2.0</td>\n",
              "      <td>3.0</td>\n",
              "    </tr>\n",
              "    <tr>\n",
              "      <th>6</th>\n",
              "      <td>62.0</td>\n",
              "      <td>140.0</td>\n",
              "      <td>2.0</td>\n",
              "      <td>3.6</td>\n",
              "      <td>268.0</td>\n",
              "      <td>4.0</td>\n",
              "      <td>3.0</td>\n",
              "    </tr>\n",
              "    <tr>\n",
              "      <th>7</th>\n",
              "      <td>57.0</td>\n",
              "      <td>120.0</td>\n",
              "      <td>0.0</td>\n",
              "      <td>0.6</td>\n",
              "      <td>354.0</td>\n",
              "      <td>4.0</td>\n",
              "      <td>3.0</td>\n",
              "    </tr>\n",
              "    <tr>\n",
              "      <th>8</th>\n",
              "      <td>63.0</td>\n",
              "      <td>130.0</td>\n",
              "      <td>2.0</td>\n",
              "      <td>1.4</td>\n",
              "      <td>254.0</td>\n",
              "      <td>4.0</td>\n",
              "      <td>7.0</td>\n",
              "    </tr>\n",
              "    <tr>\n",
              "      <th>9</th>\n",
              "      <td>53.0</td>\n",
              "      <td>140.0</td>\n",
              "      <td>2.0</td>\n",
              "      <td>3.1</td>\n",
              "      <td>203.0</td>\n",
              "      <td>4.0</td>\n",
              "      <td>7.0</td>\n",
              "    </tr>\n",
              "  </tbody>\n",
              "</table>\n",
              "</div>"
            ],
            "text/plain": [
              "   EDAD    PSD  ELE  DST    COL   TD  TAL\n",
              "0  63.0  145.0  2.0  2.3  233.0  1.0  6.0\n",
              "1  67.0  160.0  2.0  1.5  286.0  4.0  3.0\n",
              "2  67.0  120.0  2.0  2.6  229.0  4.0  7.0\n",
              "3  37.0  130.0  0.0  3.5  250.0  3.0  3.0\n",
              "4  41.0  130.0  2.0  1.4  204.0  2.0  3.0\n",
              "5  56.0  120.0  0.0  0.8  236.0  2.0  3.0\n",
              "6  62.0  140.0  2.0  3.6  268.0  4.0  3.0\n",
              "7  57.0  120.0  0.0  0.6  354.0  4.0  3.0\n",
              "8  63.0  130.0  2.0  1.4  254.0  4.0  7.0\n",
              "9  53.0  140.0  2.0  3.1  203.0  4.0  7.0"
            ]
          },
          "metadata": {
            "tags": []
          },
          "execution_count": 667
        }
      ]
    },
    {
      "cell_type": "markdown",
      "metadata": {
        "id": "2v4rw_kfNwQP",
        "colab_type": "text"
      },
      "source": [
        "\n",
        "\n",
        ">Se dividen los datos en conjuntos de entrenamiento y prueba:\n"
      ]
    },
    {
      "cell_type": "code",
      "metadata": {
        "id": "nT_ClyJKN5NM",
        "colab_type": "code",
        "colab": {}
      },
      "source": [
        "from sklearn.model_selection import train_test_split\n",
        "X_train, X_test, y_train, y_test = train_test_split(features,labels, random_state=13)"
      ],
      "execution_count": 0,
      "outputs": []
    },
    {
      "cell_type": "markdown",
      "metadata": {
        "id": "BhmvazIyOTOb",
        "colab_type": "text"
      },
      "source": [
        "\n",
        "\n",
        "> Verificacion de dimensiones de los conjuntos de prueba y entrenamiento:\n",
        "\n"
      ]
    },
    {
      "cell_type": "code",
      "metadata": {
        "id": "RNmkCL7dOaV7",
        "colab_type": "code",
        "colab": {
          "base_uri": "https://localhost:8080/",
          "height": 85
        },
        "outputId": "3584df11-b0a4-4072-a99c-0d9700a50c50"
      },
      "source": [
        "print (\"Dim X_Train:\",X_train.shape)\n",
        "print (\"Dim y_Train:\",y_train.shape)\n",
        "print (\"Dim X_Test:\",X_test.shape)\n",
        "print (\"Dim y_Test:\",y_test.shape)"
      ],
      "execution_count": 669,
      "outputs": [
        {
          "output_type": "stream",
          "text": [
            "Dim X_Train: (222, 7)\n",
            "Dim y_Train: (222,)\n",
            "Dim X_Test: (75, 7)\n",
            "Dim y_Test: (75,)\n"
          ],
          "name": "stdout"
        }
      ]
    },
    {
      "cell_type": "markdown",
      "metadata": {
        "id": "cgcFg93gPOWo",
        "colab_type": "text"
      },
      "source": [
        "## CLASIFICADOR No1 - DECISION TREE"
      ]
    },
    {
      "cell_type": "code",
      "metadata": {
        "id": "4W8DHcWrPgyX",
        "colab_type": "code",
        "colab": {
          "base_uri": "https://localhost:8080/",
          "height": 119
        },
        "outputId": "9c959e06-1c03-4847-8e3c-03947ee543e9"
      },
      "source": [
        "# IMPORTACION LIBRERIAS\n",
        "from sklearn.tree import DecisionTreeClassifier\n",
        "from sklearn.metrics import accuracy_score\n",
        "\n",
        "#NIVEL DE PROFUNDIDAD 2\n",
        "DecisionTreeModel = DecisionTreeClassifier(max_depth = 2)\n",
        "\n",
        "#EJECUCION DEL ENTRENAMIENTO\n",
        "DecisionTreeModel.fit(X_train,y_train)"
      ],
      "execution_count": 670,
      "outputs": [
        {
          "output_type": "execute_result",
          "data": {
            "text/plain": [
              "DecisionTreeClassifier(class_weight=None, criterion='gini', max_depth=2,\n",
              "                       max_features=None, max_leaf_nodes=None,\n",
              "                       min_impurity_decrease=0.0, min_impurity_split=None,\n",
              "                       min_samples_leaf=1, min_samples_split=2,\n",
              "                       min_weight_fraction_leaf=0.0, presort=False,\n",
              "                       random_state=None, splitter='best')"
            ]
          },
          "metadata": {
            "tags": []
          },
          "execution_count": 670
        }
      ]
    },
    {
      "cell_type": "code",
      "metadata": {
        "id": "w_av9O0WQLi5",
        "colab_type": "code",
        "colab": {}
      },
      "source": [
        "#SE PRUEBA EL MODELO CON LOS VALORS DE TESTING\n",
        "\n",
        "y_predict = DecisionTreeModel.predict(X_test)"
      ],
      "execution_count": 0,
      "outputs": []
    },
    {
      "cell_type": "code",
      "metadata": {
        "id": "55cmbvHBQWre",
        "colab_type": "code",
        "colab": {
          "base_uri": "https://localhost:8080/",
          "height": 34
        },
        "outputId": "40161a8b-6d24-4adc-c10a-27365b374d9a"
      },
      "source": [
        "#EVALUACION DEL MODELO\n",
        "dt1 = accuracy_score(y_test, y_predict)\n",
        "dt1"
      ],
      "execution_count": 672,
      "outputs": [
        {
          "output_type": "execute_result",
          "data": {
            "text/plain": [
              "0.7733333333333333"
            ]
          },
          "metadata": {
            "tags": []
          },
          "execution_count": 672
        }
      ]
    }
  ]
}
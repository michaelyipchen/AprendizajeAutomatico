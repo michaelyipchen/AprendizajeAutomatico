{
 "cells": [
  {
   "cell_type": "markdown",
   "metadata": {},
   "source": [
    "# Tarea-1\n",
    "\n",
    "Elaborado por: Michael Yip"
   ]
  },
  {
   "cell_type": "markdown",
   "metadata": {},
   "source": [
    "## Imports"
   ]
  },
  {
   "cell_type": "code",
   "execution_count": 33,
   "metadata": {},
   "outputs": [],
   "source": [
    "import numpy as np\n",
    "from matplotlib import pyplot as plt\n",
    "import matplotlib.patches as mpatches\n",
    "from mpl_toolkits.mplot3d import Axes3D\n",
    "from matplotlib import cm\n",
    "\n",
    "#pandas library for reading csvs\n",
    "import pandas as pd\n",
    "\n",
    "#scikit binary classification algorithms\n",
    "from sklearn.discriminant_analysis import LinearDiscriminantAnalysis\n",
    "from sklearn.model_selection import KFold\n",
    "from sklearn.model_selection import cross_val_score\n",
    "from sklearn.linear_model import Perceptron\n",
    "from sklearn import preprocessing\n"
   ]
  },
  {
   "cell_type": "code",
   "execution_count": 34,
   "metadata": {},
   "outputs": [
    {
     "name": "stdout",
     "output_type": "stream",
     "text": [
      "26.3\n"
     ]
    }
   ],
   "source": [
    "daily_min_temperatures = pd.read_csv('daily-min-temperatures.csv')\n",
    "#print(daily_min_temperatures)\n",
    "\n",
    "print(max(daily_min_temperatures['Temp']))\n",
    "\n",
    "\n"
   ]
  },
  {
   "cell_type": "code",
   "execution_count": 35,
   "metadata": {},
   "outputs": [],
   "source": [
    "def normalizar_manual(x):\n",
    "    return (x - min(x))/(max(x) - min(x))\n",
    "\n",
    "def estandarizar_manual(x):\n",
    "    return (x - x.mean())/(x.std())"
   ]
  },
  {
   "cell_type": "code",
   "execution_count": 36,
   "metadata": {},
   "outputs": [
    {
     "name": "stdout",
     "output_type": "stream",
     "text": [
      "0       0.787072\n",
      "1       0.680608\n",
      "2       0.714829\n",
      "3       0.555133\n",
      "4       0.600760\n",
      "5       0.600760\n",
      "6       0.600760\n",
      "7       0.661597\n",
      "8       0.828897\n",
      "9       0.760456\n",
      "10      0.615970\n",
      "11      0.505703\n",
      "12      0.634981\n",
      "13      0.817490\n",
      "14      0.950570\n",
      "15      0.787072\n",
      "16      0.783270\n",
      "17      0.942966\n",
      "18      0.673004\n",
      "19      0.589354\n",
      "20      0.692015\n",
      "21      0.460076\n",
      "22      0.547529\n",
      "23      0.608365\n",
      "24      0.627376\n",
      "25      0.711027\n",
      "26      0.737643\n",
      "27      0.653992\n",
      "28      0.589354\n",
      "29      0.574144\n",
      "          ...   \n",
      "3620    0.501901\n",
      "3621    0.615970\n",
      "3622    0.657795\n",
      "3623    0.779468\n",
      "3624    0.768061\n",
      "3625    0.737643\n",
      "3626    0.589354\n",
      "3627    0.536122\n",
      "3628    0.418251\n",
      "3629    0.422053\n",
      "3630    0.532319\n",
      "3631    0.433460\n",
      "3632    0.475285\n",
      "3633    0.509506\n",
      "3634    0.517110\n",
      "3635    0.528517\n",
      "3636    0.653992\n",
      "3637    0.558935\n",
      "3638    0.585551\n",
      "3639    0.498099\n",
      "3640    0.501901\n",
      "3641    0.528517\n",
      "3642    0.380228\n",
      "3643    0.490494\n",
      "3644    0.555133\n",
      "3645    0.532319\n",
      "3646    0.517110\n",
      "3647    0.513308\n",
      "3648    0.596958\n",
      "3649    0.494297\n",
      "Name: Temp, Length: 3650, dtype: float64\n",
      "0       2.338563\n",
      "1       1.650913\n",
      "2       1.871943\n",
      "3       0.840467\n",
      "4       1.135175\n",
      "5       1.135175\n",
      "6       1.135175\n",
      "7       1.528118\n",
      "8       2.608711\n",
      "9       2.166650\n",
      "10      1.233411\n",
      "11      0.521201\n",
      "12      1.356205\n",
      "13      2.535034\n",
      "14      3.394597\n",
      "15      2.338563\n",
      "16      2.314004\n",
      "17      3.345479\n",
      "18      1.601795\n",
      "19      1.061498\n",
      "20      1.724589\n",
      "21      0.226494\n",
      "22      0.791350\n",
      "23      1.184293\n",
      "24      1.307087\n",
      "25      1.847384\n",
      "26      2.019297\n",
      "27      1.479000\n",
      "28      1.061498\n",
      "29      0.963262\n",
      "          ...   \n",
      "3620    0.496642\n",
      "3621    1.233411\n",
      "3622    1.503559\n",
      "3623    2.289445\n",
      "3624    2.215768\n",
      "3625    2.019297\n",
      "3626    1.061498\n",
      "3627    0.717673\n",
      "3628   -0.043654\n",
      "3629   -0.019095\n",
      "3630    0.693114\n",
      "3631    0.054581\n",
      "3632    0.324730\n",
      "3633    0.545760\n",
      "3634    0.594878\n",
      "3635    0.668555\n",
      "3636    1.479000\n",
      "3637    0.865026\n",
      "3638    1.036939\n",
      "3639    0.472083\n",
      "3640    0.496642\n",
      "3641    0.668555\n",
      "3642   -0.289244\n",
      "3643    0.422966\n",
      "3644    0.840467\n",
      "3645    0.693114\n",
      "3646    0.594878\n",
      "3647    0.570319\n",
      "3648    1.110616\n",
      "3649    0.447524\n",
      "Name: Temp, Length: 3650, dtype: float64\n"
     ]
    }
   ],
   "source": [
    "print(normalizar_manual(daily_min_temperatures['Temp']))\n",
    "print(estandarizar_manual(daily_min_temperatures['Temp']))\n",
    "\n"
   ]
  },
  {
   "cell_type": "code",
   "execution_count": 41,
   "metadata": {},
   "outputs": [
    {
     "name": "stdout",
     "output_type": "stream",
     "text": [
      "[2.33888328 1.65113873 1.87219948 ... 0.5703973  1.11076801 0.44758577]\n"
     ]
    }
   ],
   "source": [
    "def normalizar_automatico(x):\n",
    "    mm_scaler = preprocessing.MinMaxScaler()\n",
    "    \n",
    "    return mm_scaler.fit_transform(x)\n",
    "\n",
    "print(preprocessing.scale(daily_min_temperatures['Temp']))\n"
   ]
  },
  {
   "cell_type": "code",
   "execution_count": null,
   "metadata": {},
   "outputs": [],
   "source": []
  }
 ],
 "metadata": {
  "kernelspec": {
   "display_name": "Python 3",
   "language": "python",
   "name": "python3"
  },
  "language_info": {
   "codemirror_mode": {
    "name": "ipython",
    "version": 3
   },
   "file_extension": ".py",
   "mimetype": "text/x-python",
   "name": "python",
   "nbconvert_exporter": "python",
   "pygments_lexer": "ipython3",
   "version": "3.7.3"
  }
 },
 "nbformat": 4,
 "nbformat_minor": 2
}
